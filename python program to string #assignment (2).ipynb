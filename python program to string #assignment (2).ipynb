{
 "cells": [
  {
   "cell_type": "code",
   "execution_count": 4,
   "id": "bfb04717",
   "metadata": {},
   "outputs": [],
   "source": [
    "#write a python program to convert a string to lower case"
   ]
  },
  {
   "cell_type": "code",
   "execution_count": 20,
   "id": "dce81ca6",
   "metadata": {},
   "outputs": [
    {
     "name": "stdout",
     "output_type": "stream",
     "text": [
      "enter a string:AMEEM\n"
     ]
    },
    {
     "data": {
      "text/plain": [
       "'ameem'"
      ]
     },
     "execution_count": 20,
     "metadata": {},
     "output_type": "execute_result"
    }
   ],
   "source": [
    "x=input(\"enter a string:\")\n",
    "x.lower()"
   ]
  },
  {
   "cell_type": "code",
   "execution_count": 8,
   "id": "ae0c1d01",
   "metadata": {},
   "outputs": [],
   "source": [
    "#write a python program to convert only odd indexed characters to lower case"
   ]
  },
  {
   "cell_type": "code",
   "execution_count": 1,
   "id": "cc9d9ce2",
   "metadata": {},
   "outputs": [
    {
     "name": "stdout",
     "output_type": "stream",
     "text": [
      "enter a string:AMEEM\n",
      "AmEeM\n"
     ]
    }
   ],
   "source": [
    "x=input(\"enter a string:\")\n",
    "a=\"\"\n",
    "for letters in range(0,len(x)):\n",
    "    if not letters%2==0:\n",
    "        a=a+x[letters].lower()\n",
    "    else:\n",
    "        a=a+x[letters]\n",
    "print(a)"
   ]
  },
  {
   "cell_type": "code",
   "execution_count": 12,
   "id": "ab393830",
   "metadata": {},
   "outputs": [],
   "source": [
    "#write a python to convert only even indexed characters to lower case"
   ]
  },
  {
   "cell_type": "code",
   "execution_count": 21,
   "id": "8915aeed",
   "metadata": {},
   "outputs": [
    {
     "name": "stdout",
     "output_type": "stream",
     "text": [
      "AMEEM SHAIK\n",
      "aMeEm sHaIk\n"
     ]
    }
   ],
   "source": [
    "x=input()\n",
    "a=\"\"\n",
    "for index in range(0,len(x)):\n",
    "    if index%2==0:\n",
    "        a=a+x[index].lower()\n",
    "    else:\n",
    "        a=a+x[index]\n",
    "print(a)"
   ]
  },
  {
   "cell_type": "code",
   "execution_count": 2,
   "id": "d76a3376",
   "metadata": {},
   "outputs": [],
   "source": [
    "#write python program to convert only odd indexed characters to upper case"
   ]
  },
  {
   "cell_type": "code",
   "execution_count": 3,
   "id": "50c208f8",
   "metadata": {},
   "outputs": [
    {
     "name": "stdout",
     "output_type": "stream",
     "text": [
      "enter a string:ameem\n",
      "aMeEm\n"
     ]
    }
   ],
   "source": [
    "x=input(\"enter a string:\")\n",
    "a=\"\"\n",
    "for letters in range(0,len(x)):\n",
    "    if not letters%2==0:\n",
    "        a=a+x[letters].upper()\n",
    "    else:\n",
    "        a=a+x[letters]\n",
    "print(a)"
   ]
  },
  {
   "cell_type": "code",
   "execution_count": 4,
   "id": "34d0bc35",
   "metadata": {},
   "outputs": [],
   "source": [
    "#write a python program to convert only even indexed characters to upper case"
   ]
  },
  {
   "cell_type": "code",
   "execution_count": 6,
   "id": "b12e6fc0",
   "metadata": {},
   "outputs": [
    {
     "name": "stdout",
     "output_type": "stream",
     "text": [
      "ameem\n",
      "AmEeM\n"
     ]
    }
   ],
   "source": [
    "x=input()\n",
    "a=\"\"\n",
    "for index in range(0,len(x)):\n",
    "    if index%2==0:\n",
    "        a=a+x[index].upper()\n",
    "    else:\n",
    "        a=a+x[index]\n",
    "print(a)"
   ]
  },
  {
   "cell_type": "code",
   "execution_count": 8,
   "id": "8524263e",
   "metadata": {},
   "outputs": [],
   "source": [
    "#write a python program where you have different variable which contains your name,sex,age,phone no,fathers name and mothers name.and by using this variable create a"
   ]
  },
  {
   "cell_type": "code",
   "execution_count": 28,
   "id": "5fac131b",
   "metadata": {},
   "outputs": [
    {
     "data": {
      "text/plain": [
       "'my name is ameem my sex is male my age is 22 my phoneno is 7660054816 my fathersname is asif ahamed my mothersname is rizwana begum'"
      ]
     },
     "execution_count": 28,
     "metadata": {},
     "output_type": "execute_result"
    }
   ],
   "source": [
    "name=\"ameem\"\n",
    "sex=\"male\"\n",
    "age=22\n",
    "phoneno=7660054816\n",
    "fathersname=\"asif ahamed\"\n",
    "mothersname=\"rizwana begum\"\n",
    "bio_data=\"my name is {} my sex is {} my age is {} my phoneno is {} my fathersname is {} my mothersname is {}\"\n",
    "bio_data.format(name,sex,age,phoneno,fathersname,mothersname)"
   ]
  },
  {
   "cell_type": "code",
   "execution_count": 29,
   "id": "9ff8cfa8",
   "metadata": {},
   "outputs": [],
   "source": [
    "#write a python program to count how many times \"@\" occurred"
   ]
  },
  {
   "cell_type": "code",
   "execution_count": 30,
   "id": "546a6086",
   "metadata": {},
   "outputs": [
    {
     "data": {
      "text/plain": [
       "3"
      ]
     },
     "execution_count": 30,
     "metadata": {},
     "output_type": "execute_result"
    }
   ],
   "source": [
    "l=[0,\"@\",1,\"@\",2,\"@\",3]\n",
    "l.count(\"@\")"
   ]
  },
  {
   "cell_type": "code",
   "execution_count": 1,
   "id": "0d1b10cb",
   "metadata": {},
   "outputs": [],
   "source": [
    "#write a python program to get only names from the string"
   ]
  },
  {
   "cell_type": "code",
   "execution_count": 4,
   "id": "5a090473",
   "metadata": {},
   "outputs": [
    {
     "name": "stdout",
     "output_type": "stream",
     "text": [
      "ameem@gmail.com,teja@gmail.com,siddu@gmail.com\n",
      "ameem , teja , siddu\n"
     ]
    }
   ],
   "source": [
    "a=input()\n",
    "b=a.split(\",\")\n",
    "m1=b[0]\n",
    "m2=b[1]\n",
    "m3=b[2]\n",
    "M1=m1.index(\"@\")\n",
    "M2=m2.index(\"@\")\n",
    "M3=m3.index(\"@\")\n",
    "n1=m1[0:M1]\n",
    "n2=m2[0:M2]\n",
    "n3=m3[0:M3]\n",
    "print(\"{} , {} , {}\".format(n1,n2,n3))"
   ]
  },
  {
   "cell_type": "code",
   "execution_count": 5,
   "id": "42cbe916",
   "metadata": {},
   "outputs": [],
   "source": [
    "#given a string of odd length greater that 9, return a new string made of the middle three characters of a given string"
   ]
  },
  {
   "cell_type": "code",
   "execution_count": 6,
   "id": "29a84331",
   "metadata": {},
   "outputs": [
    {
     "name": "stdout",
     "output_type": "stream",
     "text": [
      "shaikameem\n"
     ]
    },
    {
     "data": {
      "text/plain": [
       "'kam'"
      ]
     },
     "execution_count": 6,
     "metadata": {},
     "output_type": "execute_result"
    }
   ],
   "source": [
    "name=input()\n",
    "size=int(len(name)/2)\n",
    "name[size-1:size+2]"
   ]
  },
  {
   "cell_type": "code",
   "execution_count": 7,
   "id": "7070b0eb",
   "metadata": {},
   "outputs": [],
   "source": [
    "#write a python program to insert a 2 string in the middle of 1 string"
   ]
  },
  {
   "cell_type": "code",
   "execution_count": 8,
   "id": "60384757",
   "metadata": {},
   "outputs": [
    {
     "name": "stdout",
     "output_type": "stream",
     "text": [
      "ameem\n",
      "shaik\n"
     ]
    },
    {
     "data": {
      "text/plain": [
       "'mshaikeem'"
      ]
     },
     "execution_count": 8,
     "metadata": {},
     "output_type": "execute_result"
    }
   ],
   "source": [
    "name1=input()\n",
    "name2=input()\n",
    "size=int(len(name1)/2)\n",
    "name1[size-1]+name2+name1[size:]"
   ]
  },
  {
   "cell_type": "code",
   "execution_count": 9,
   "id": "b59a4e96",
   "metadata": {},
   "outputs": [],
   "source": [
    "#write a program to remove vowels from the entire alphabets"
   ]
  },
  {
   "cell_type": "code",
   "execution_count": 10,
   "id": "91dd33c6",
   "metadata": {},
   "outputs": [
    {
     "name": "stdout",
     "output_type": "stream",
     "text": [
      "abcdefghijklmnopqrstuvwxyz\n",
      "bcdefgjlmnopqrtuvwxyz\n"
     ]
    }
   ],
   "source": [
    "vowels=[\"a\",\"e\",\"i\",\"o\",\"u\",\"A\",\"E\",\"I\",\"O\",\"U\"]\n",
    "name=input()\n",
    "a=\"\"\n",
    "for i in name:\n",
    "    if i not in vowels:\n",
    "        a+=i\n",
    "print(a)"
   ]
  },
  {
   "cell_type": "code",
   "execution_count": null,
   "id": "e16a8f4d",
   "metadata": {},
   "outputs": [],
   "source": []
  }
 ],
 "metadata": {
  "kernelspec": {
   "display_name": "Python 3 (ipykernel)",
   "language": "python",
   "name": "python3"
  },
  "language_info": {
   "codemirror_mode": {
    "name": "ipython",
    "version": 3
   },
   "file_extension": ".py",
   "mimetype": "text/x-python",
   "name": "python",
   "nbconvert_exporter": "python",
   "pygments_lexer": "ipython3",
   "version": "3.9.13"
  }
 },
 "nbformat": 4,
 "nbformat_minor": 5
}
